{
 "cells": [
  {
   "cell_type": "code",
   "execution_count": 11,
   "metadata": {
    "collapsed": false
   },
   "outputs": [
    {
     "name": "stdout",
     "output_type": "stream",
     "text": [
      "['orange', 'apple']\n",
      "orange\n",
      "orange\n",
      "apple\n",
      "dict_keys(['a', 'b'])\n"
     ]
    },
    {
     "data": {
      "text/plain": [
       "[1, 2, 3]"
      ]
     },
     "execution_count": 11,
     "metadata": {},
     "output_type": "execute_result"
    }
   ],
   "source": [
    "o = 1\n",
    "o = [1,2,3]\n",
    "o = ['a','b','c']\n",
    "o = ['orange','apple']\n",
    "print(o)\n",
    "for o1 in o[:1]:\n",
    "    print(o1)\n",
    "for i in range(0,len(o),1):\n",
    "    print(o[i])\n",
    "d = {\"a\":[1,2,3],\"b\":[2,3,4]}\n",
    "print(d.keys())\n",
    "d[\"a\"]"
   ]
  },
  {
   "cell_type": "code",
   "execution_count": 17,
   "metadata": {
    "collapsed": false
   },
   "outputs": [
    {
     "name": "stdout",
     "output_type": "stream",
     "text": [
      "15\n"
     ]
    }
   ],
   "source": [
    "import functools\n",
    "def testfunc(a):\n",
    "    return len(a),len(a)+2\n",
    "#a1,a2 = testfunc([1,2,3,4])\n",
    "#print(str(a1)+\" \"+str(a2))\n",
    "#testfunc()\n",
    "#g = lambda x: x+2\n",
    "#g(4)\n",
    "g = filter(lambda x: x%2==0,[1,2,3,4,5,6])\n",
    "g = map(lambda x: x+2,[1,2,3,4,5,6])\n",
    "g = functools.reduce(lambda x,y: x+y,[1,2,3,4,5])\n",
    "print(g)\n"
   ]
  },
  {
   "cell_type": "code",
   "execution_count": 22,
   "metadata": {
    "collapsed": false
   },
   "outputs": [
    {
     "data": {
      "text/plain": [
       "array([  2.71828183,   7.3890561 ,  20.08553692,  54.59815003])"
      ]
     },
     "execution_count": 22,
     "metadata": {},
     "output_type": "execute_result"
    }
   ],
   "source": [
    "import numpy as np\n",
    "\n",
    "v1 = np.array([1,2,3,4])\n",
    "v2 = np.array([1,4,3,5])\n",
    "v1+v2\n",
    "np.exp(v1)"
   ]
  },
  {
   "cell_type": "code",
   "execution_count": null,
   "metadata": {
    "collapsed": true
   },
   "outputs": [],
   "source": [
    "import pandas as pd"
   ]
  }
 ],
 "metadata": {
  "kernelspec": {
   "display_name": "Python 3",
   "language": "python",
   "name": "python3"
  },
  "language_info": {
   "codemirror_mode": {
    "name": "ipython",
    "version": 3
   },
   "file_extension": ".py",
   "mimetype": "text/x-python",
   "name": "python",
   "nbconvert_exporter": "python",
   "pygments_lexer": "ipython3",
   "version": "3.4.3"
  }
 },
 "nbformat": 4,
 "nbformat_minor": 0
}
