{
 "cells": [
  {
   "cell_type": "code",
   "execution_count": 3,
   "metadata": {
    "collapsed": false
   },
   "outputs": [
    {
     "name": "stdout",
     "output_type": "stream",
     "text": [
      "Populating the interactive namespace from numpy and matplotlib\n"
     ]
    },
    {
     "data": {
      "text/plain": [
       "array([0, 0, 0, 0, 0, 0, 0, 0, 0, 0, 0, 0, 0, 0, 0, 0, 0, 0, 0, 0, 0, 0, 0,\n",
       "       0, 0, 0, 0, 0, 0, 0, 0, 0, 0, 0, 0, 0, 0, 0, 0, 0, 0, 0, 0, 0, 0, 0,\n",
       "       0, 0, 0, 0, 1, 1, 1, 1, 1, 1, 1, 1, 1, 1, 1, 1, 1, 1, 1, 1, 1, 1, 1,\n",
       "       1, 1, 1, 1, 1, 1, 1, 1, 1, 1, 1, 1, 1, 1, 1, 1, 1, 1, 1, 1, 1, 1, 1,\n",
       "       1, 1, 1, 1, 1, 1, 1, 1, 2, 2, 2, 2, 2, 2, 2, 2, 2, 2, 2, 2, 2, 2, 2,\n",
       "       2, 2, 2, 2, 2, 2, 2, 2, 2, 2, 2, 2, 2, 2, 2, 2, 2, 2, 2, 2, 2, 2, 2,\n",
       "       2, 2, 2, 2, 2, 2, 2, 2, 2, 2, 2, 2])"
      ]
     },
     "execution_count": 3,
     "metadata": {},
     "output_type": "execute_result"
    }
   ],
   "source": [
    "import numpy as np\n",
    "import scipy as sp\n",
    "import matplotlib.pyplot as plt\n",
    "%pylab inline\n",
    "from sklearn import (cluster,datasets)\n",
    "from scipy import misc\n",
    "k_means = cluster.KMeans(n_clusters=10, n_init=4)\n",
    "iris = datasets.load_iris()\n",
    "iris.target"
   ]
  },
  {
   "cell_type": "code",
   "execution_count": 11,
   "metadata": {
    "collapsed": false
   },
   "outputs": [
    {
     "data": {
      "text/plain": [
       "array([[  1.96798425e-003,   4.35434854e-064,   2.33897238e-036, ...,\n",
       "          0.00000000e+000,   8.78318478e-002,   7.36909454e-139],\n",
       "       [  9.92845708e-001,   2.59995408e-046,   3.09550105e-025, ...,\n",
       "          0.00000000e+000,   6.64787186e-003,   3.19509872e-140],\n",
       "       [  9.99012209e-001,   1.86881332e-063,   1.41896050e-031, ...,\n",
       "          0.00000000e+000,   5.00491121e-004,   4.36273320e-147],\n",
       "       ..., \n",
       "       [  0.00000000e+000,   8.30200640e-007,   5.08039248e-007, ...,\n",
       "          0.00000000e+000,   8.37389405e-173,   3.96683909e-003],\n",
       "       [  0.00000000e+000,   5.32827128e-034,   2.78437942e-007, ...,\n",
       "          0.00000000e+000,   1.21733110e-182,   9.97299766e-001],\n",
       "       [  0.00000000e+000,   4.55056691e-032,   3.45106777e-002, ...,\n",
       "          0.00000000e+000,   4.86923582e-140,   4.00033099e-014]])"
      ]
     },
     "execution_count": 11,
     "metadata": {},
     "output_type": "execute_result"
    }
   ],
   "source": [
    "from sklearn import datasets\n",
    "from sklearn.mixture import GaussianMixture\n",
    "\n",
    "import numpy as np\n",
    "iris = datasets.load_iris()\n",
    "estimator = GaussianMixture(n_components=10,covariance_type='full')\n",
    "estimator.fit(iris.data)\n",
    "\n",
    "#hard clustering\n",
    "#estimator.predict(iris.data)\n",
    "#estimator.covariances_\n",
    "\n",
    "#Soft clustering\n",
    "estimator.predict_proba(iris.data)\n"
   ]
  },
  {
   "cell_type": "code",
   "execution_count": 13,
   "metadata": {
    "collapsed": false
   },
   "outputs": [
    {
     "data": {
      "text/plain": [
       "array([  1.08486301e-01,   3.35147526e-01,   6.52411158e-03,\n",
       "         6.44759912e-03,   6.37198425e-03,   6.29725645e-03,\n",
       "         1.26873489e-01,   1.88656138e-02,   6.03289270e-03,\n",
       "         3.78716647e-01,   2.27479575e-04,   8.74921442e-06,\n",
       "         3.36508247e-07,   1.29426249e-08,   4.97793265e-10,\n",
       "         1.91458948e-11,   7.36380569e-13,   2.83223296e-14,\n",
       "         1.08932037e-15,   4.18969373e-17,   1.61142066e-18,\n",
       "         6.19777178e-20,   2.38375838e-21,   9.16830146e-23,\n",
       "         3.52626979e-24])"
      ]
     },
     "execution_count": 13,
     "metadata": {},
     "output_type": "execute_result"
    }
   ],
   "source": [
    "#N on-parametric Gaussian mixtures\n",
    "from sklearn import datasets\n",
    "#from sklearn.mixture import GaussianMixture\n",
    "from sklearn.mixture import BayesianGaussianMixture\n",
    "import numpy as np\n",
    "iris = datasets.load_iris()\n",
    "estimator = BayesianGaussianMixture(n_components=25)\n",
    "estimator.fit(iris.data)\n",
    "#estimator.weights_"
   ]
  },
  {
   "cell_type": "code",
   "execution_count": null,
   "metadata": {
    "collapsed": true
   },
   "outputs": [],
   "source": []
  }
 ],
 "metadata": {
  "kernelspec": {
   "display_name": "Python 3",
   "language": "python",
   "name": "python3"
  },
  "language_info": {
   "codemirror_mode": {
    "name": "ipython",
    "version": 3
   },
   "file_extension": ".py",
   "mimetype": "text/x-python",
   "name": "python",
   "nbconvert_exporter": "python",
   "pygments_lexer": "ipython3",
   "version": "3.4.5"
  }
 },
 "nbformat": 4,
 "nbformat_minor": 0
}
