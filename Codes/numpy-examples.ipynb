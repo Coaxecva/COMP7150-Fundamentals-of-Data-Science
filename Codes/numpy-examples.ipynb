{
 "cells": [
  {
   "cell_type": "code",
   "execution_count": 1,
   "metadata": {
    "collapsed": false
   },
   "outputs": [
    {
     "name": "stderr",
     "output_type": "stream",
     "text": [
      "/home/vphan/anaconda3/lib/python3.5/site-packages/ipykernel/__main__.py:19: RuntimeWarning: invalid value encountered in log\n"
     ]
    },
    {
     "data": {
      "text/plain": [
       "array([[ 2. ,  0.8,  4. ,  2. ],\n",
       "       [ 2. , -1. ,  3. ,  4. ],\n",
       "       [ 4. ,  0.8, -1. ,  4. ],\n",
       "       [ 2. ,  0.6, -1. ,  4. ]])"
      ]
     },
     "execution_count": 1,
     "metadata": {},
     "output_type": "execute_result"
    }
   ],
   "source": [
    "import numpy as np\n",
    "#array\n",
    "a = np.array([[1,2,3,-1],[1,2,6,8],[-1,1.2,-3,1],[1,4,5,-1]])\n",
    "np.exp(a)\n",
    "a.sum(axis=0)\n",
    "a.sum(axis=1)\n",
    "a.mean(axis=0)\n",
    "a.mean(axis=1)\n",
    "a.std(axis=0)\n",
    "a.std(axis=1)\n",
    "a.argmin(axis=0)\n",
    "a.argmin(axis=1)\n",
    "\n",
    "#Dirichlet-equation\n",
    "N = np.array([[1,2,3,-1],[1,-2,2,1],[3,2,-1,1],[1,1.8,-2,1]])\n",
    "A = np.array([1,-1.2,1,3])\n",
    "asum = A.sum()\n",
    "#print(asum)\n",
    "np.log((N-1+A)/(N.sum(axis=1)-1+asum))\n",
    "V = N+A.T\n",
    "#conditional\n",
    "np.where(V>0,V,-1)\n"
   ]
  },
  {
   "cell_type": "code",
   "execution_count": 21,
   "metadata": {
    "collapsed": false
   },
   "outputs": [],
   "source": [
    "import numpy as np\n",
    "import matplotlib.pyplot as plt\n",
    "#Least squares fitting\n",
    "\n",
    "X = np.array([1,2,3,4,5])\n",
    "Y = np.array([-0.1,0.2,0.3,0.4,0.5])\n",
    "plt.plot(X,Y,'r--',marker=\"o\")\n",
    "A = np.vstack([X, np.ones(len(X))]).T\n",
    "#print(A)\n",
    "#plt.show()\n",
    "m,c = np.linalg.lstsq(A, Y)[0]\n",
    "#print(m)\n",
    "#print(c)\n",
    "plt.plot(X,m*X+c,marker=\"*\",label=\"fitted\")\n",
    "plt.show()"
   ]
  },
  {
   "cell_type": "code",
   "execution_count": 9,
   "metadata": {
    "collapsed": false
   },
   "outputs": [
    {
     "data": {
      "text/plain": [
       "array([[  1.55637255e-01,  -1.96078431e-02,   1.83823529e-02,\n",
       "         -2.94117647e-01],\n",
       "       [  3.12500000e-01,  -2.95437500e-18,   3.12500000e-01,\n",
       "         -8.62988486e-18],\n",
       "       [  3.24754902e-02,   3.92156863e-02,  -1.93014706e-01,\n",
       "          8.82352941e-02],\n",
       "       [ -1.21936275e-01,   9.80392157e-02,   6.43382353e-02,\n",
       "         -2.94117647e-02]])"
      ]
     },
     "execution_count": 9,
     "metadata": {},
     "output_type": "execute_result"
    }
   ],
   "source": [
    "import numpy as np\n",
    "\n",
    "#Matrix operations\n",
    "a = np.array([[1,2,3,-1],[1,2,6,8],[-1,1.2,-3,1],[-3,1,1,-1]])\n",
    "np.linalg.eig(a)\n",
    "np.linalg.inv(a)"
   ]
  },
  {
   "cell_type": "code",
   "execution_count": 8,
   "metadata": {
    "collapsed": false
   },
   "outputs": [],
   "source": [
    "import numpy as np\n",
    "import matplotlib.pyplot as plt\n",
    "#Sampling from distributions\n",
    "norm_D = np.random.normal(size=500)\n",
    "beta_D = np.random.beta(0.1,0.1,size=500)\n",
    "plt.hist(beta_D,bins=100,normed=True)\n",
    "plt.show()"
   ]
  },
  {
   "cell_type": "code",
   "execution_count": 12,
   "metadata": {
    "collapsed": false
   },
   "outputs": [
    {
     "name": "stderr",
     "output_type": "stream",
     "text": [
      "/home/vphan/anaconda3/lib/python3.5/site-packages/scipy/stats/_continuous_distns.py:404: RuntimeWarning: invalid value encountered in sqrt\n",
      "  sk = 2*(b-a)*sqrt(a + b + 1) / (a + b + 2) / sqrt(a*b)\n",
      "/home/vphan/anaconda3/lib/python3.5/site-packages/scipy/optimize/minpack.py:161: RuntimeWarning: The iteration is not making good progress, as measured by the \n",
      "  improvement from the last ten iterations.\n",
      "  warnings.warn(msg, RuntimeWarning)\n"
     ]
    }
   ],
   "source": [
    "import numpy as np\n",
    "import scipy.stats as st\n",
    "import matplotlib.pyplot as plt\n",
    "#d = np.random.randn(500)\n",
    "d = np.random.beta(1,10,500)\n",
    "#d1 = np.histogram(d)\n",
    "#print(d)\n",
    "plt.hist(d,normed=True)\n",
    "#plt.show()\n",
    "#Can use names such as beta, normal, exponential, etc. to call the appropriate distribution fitting\n",
    "dist = getattr(st, \"beta\")\n",
    "param = dist.fit(d)\n",
    "X = np.linspace(-1,1,100)\n",
    "pdf_fitted = dist.pdf(X, *param[:-2], loc=param[len(param)-2], scale=param[len(param)-1])\n",
    "plt.plot(X,pdf_fitted)\n",
    "plt.show()\n"
   ]
  }
 ],
 "metadata": {
  "anaconda-cloud": {},
  "kernelspec": {
   "display_name": "Python [Root]",
   "language": "python",
   "name": "Python [Root]"
  },
  "language_info": {
   "codemirror_mode": {
    "name": "ipython",
    "version": 3
   },
   "file_extension": ".py",
   "mimetype": "text/x-python",
   "name": "python",
   "nbconvert_exporter": "python",
   "pygments_lexer": "ipython3",
   "version": "3.5.2"
  }
 },
 "nbformat": 4,
 "nbformat_minor": 0
}
